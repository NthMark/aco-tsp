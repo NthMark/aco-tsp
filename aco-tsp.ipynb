{
 "cells": [
  {
   "cell_type": "markdown",
   "metadata": {},
   "source": [
    "# Solving Travelling Salesman Problem using Ant Colony Optimization"
   ]
  },
  {
   "cell_type": "markdown",
   "metadata": {},
   "source": [
    "## Introduction\n",
    "### Ant Colony Optimization (ACO)\n",
    "It is an **optimization algorithm** used to find the shortest path between points or nodes. It is developed by observing the behaviour of ants when they follow a path to their food source. Ants are essentially blind so they follow pheromone trails left behind by other ants on the path. This algorithm follows the same approach by using the probability of going to the next node as the distance to the node and the amount of pheromones.\n",
    "\n",
    "### Symmetric traveling salesman problem (TSP)\n",
    "Given a set of **n** nodes and distances for each pair of **nodes**, find a roundtrip of minimal total length visiting each node exactly once. The distance from node *i* to node *j* is the same as from node *j* to node *i*.\n",
    "\n",
    "## Implementation\n",
    "Initially we import some **helper** libraries as well as other needed ones, as it follows:"
   ]
  },
  {
   "cell_type": "code",
   "execution_count": 1,
   "metadata": {},
   "outputs": [],
   "source": [
    "from methods import *\n",
    "import matplotlib.pyplot as plt"
   ]
  },
  {
   "cell_type": "markdown",
   "metadata": {},
   "source": [
    "### TSP file\n",
    "A **Symmetric traveling salesman problem (TSP)** has the following structure: \n",
    "\n",
    "```txt\n",
    "  1- NAME : <string>\n",
    "  2- TYPE : <string>\n",
    "  3- COMMENT : <string>\n",
    "  4- DIMENSION : <integer>\n",
    "  5- EDGE WEIGHT TYPE : <string>\n",
    "  6- NODE COORD SECTION : <integer> <real> <real>\n",
    "  7- EOF\n",
    "\n",
    "  1- Identifies the data file\n",
    "  2- Specifies the type of the data (TSP: Data for a symmetric traveling salesman problem)\n",
    "  3- Additional comments (usually the name of the contributor or creator of the problem instance is given here).\n",
    "  4- For a TSP the dimension is the number of its nodes\n",
    "  5- Specifies how the edge weights (or distances) are given (EUC 2D: Weights are Euclidean distances in 2-D)\n",
    "  6- Node coordinates are given in this section. Each line is of the form\n",
    "  7- Terminates the input data. This entry is optional.\n",
    "```\n",
    "\n",
    "As some functions has been defined, we can call some methods to read our TSP file and to store its data in order to use. In our case, we are going to use the `kroA100.tsp` (The 100-city problem A by *Krolak/Felts/Nelson*)."
   ]
  },
  {
   "cell_type": "code",
   "execution_count": 2,
   "metadata": {},
   "outputs": [
    {
     "name": "stdout",
     "output_type": "stream",
     "text": [
      "\n",
      "Name:  kroA100\n",
      "Type:  TSP\n",
      "Comment:  100-city\n",
      "Dimension:  100\n",
      "Edge Weight Type:  EUC_2D \n",
      "\n"
     ]
    }
   ],
   "source": [
    "# Get TSP data\n",
    "TSP = getTspData('kroA100.tsp')\n",
    "\n",
    "# Display TSP file headers\n",
    "displayTspHeaders(TSP)"
   ]
  },
  {
   "cell_type": "markdown",
   "metadata": {},
   "source": [
    "### Space"
   ]
  },
  {
   "cell_type": "markdown",
   "metadata": {},
   "source": [
    "We can use now its coordenates pairs to plot nodes."
   ]
  },
  {
   "cell_type": "code",
   "execution_count": 3,
   "metadata": {},
   "outputs": [
    {
     "data": {
      "image/png": "[encoded data removed]",
      "text/plain": [
       "<Figure size 432x288 with 1 Axes>"
      ]
     },
     "metadata": {
      "needs_background": "light"
     },
     "output_type": "display_data"
    }
   ],
   "source": [
    "# Store coords\n",
    "coords = TSP['node_coord_section']\n",
    "\n",
    "# Latitude , Longitude\n",
    "x = [i[0] for i in coords]\n",
    "y = [i[1] for i in coords]\n",
    "\n",
    "# Plot\n",
    "plt.scatter(x, y)\n",
    "\n",
    "# Plot properties\n",
    "plt.title('Space')\n",
    "plt.xlabel('Latitude')\n",
    "plt.ylabel('Longitude')\n",
    "plt.savefig('plots/space.png')\n",
    "\n",
    "plt.show()"
   ]
  }
 ],
 "metadata": {
  "kernelspec": {
   "display_name": "Python 3",
   "language": "python",
   "name": "python3"
  },
  "language_info": {
   "codemirror_mode": {
    "name": "ipython",
    "version": 3
   },
   "file_extension": ".py",
   "mimetype": "text/x-python",
   "name": "python",
   "nbconvert_exporter": "python",
   "pygments_lexer": "ipython3",
   "version": "3.7.6"
  }
 },
 "nbformat": 4,
 "nbformat_minor": 4
}
